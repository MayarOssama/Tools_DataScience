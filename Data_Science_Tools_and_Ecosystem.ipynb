{
  "metadata": {
    "language_info": {
      "name": ""
    },
    "kernelspec": {
      "name": "python",
      "display_name": "Python (Pyodide)",
      "language": "python"
    },
    "colab": {
      "provenance": []
    }
  },
  "nbformat_minor": 0,
  "nbformat": 4,
  "cells": [
    {
      "cell_type": "markdown",
      "source": [
        "# Data Science Tools and Ecosystem"
      ],
      "metadata": {
        "id": "ZuoiucOKGQ2Z"
      }
    },
    {
      "cell_type": "markdown",
      "source": [
        "## Introduction\n",
        "Data Science tools are an esential to start your career as a data scientest."
      ],
      "metadata": {
        "id": "TtGiIzzTGQ2b"
      }
    },
    {
      "cell_type": "markdown",
      "source": [
        "## Languages of Data Science"
      ],
      "metadata": {
        "id": "B_K0z9REGQ2b"
      }
    },
    {
      "cell_type": "markdown",
      "source": [
        "The most commonly used languages for data science are:\n",
        "- *Python*\n",
        "- *R*\n",
        "- *Scala*\n",
        "- *Java*\n",
        "- *C++*\n",
        "- *Julia*"
      ],
      "metadata": {
        "id": "PoKXGJpzGQ2b"
      }
    },
    {
      "cell_type": "markdown",
      "source": [
        "# Data Science Libraries\n",
        "Once you picked your language of choice, in my prefernce its Python, the next step is to get familiar with the libraies that would help us with the datascience tasks.\n",
        "\n",
        "The most commonly used libraries are:\n",
        "* Pandas\n",
        "* NumPy\n",
        "* SciPy\n",
        "* Matplotlib\n",
        "* TensorFlow\n",
        "* PyTorch\n",
        "* Keras\n",
        "* Scikit-learn\n",
        "* The Natural Language Toolkit (NLTK).\n"
      ],
      "metadata": {
        "id": "v2JbOZ80GQ2b"
      }
    },
    {
      "cell_type": "markdown",
      "source": [
        "## Data Science Tools\n",
        "Data science has 6 main task categories; *Data Managment, Data Integration and Transofrmation, Data Visualization, Model Building, and Model Monitoring and Assessment*.\n"
      ],
      "metadata": {
        "id": "UqyMNBRQGQ2b"
      }
    },
    {
      "cell_type": "markdown",
      "source": [
        "| Data Science Tools|\n",
        "| --- |\n",
        "| GitHub |\n",
        "| RStudio |\n",
        "| Jupyter Noetbook |\n",
        "| IBM Watson|"
      ],
      "metadata": {
        "id": "PO9gc1KbGQ2b"
      }
    },
    {
      "cell_type": "markdown",
      "source": [
        "| Task | Tools |\n",
        "| --- | --- |\n",
        "| Data Managment | MySQL, PostSQL, MongoDB, Apache CouchDB |\n",
        "| Data Integration and Transformation | Apache AirFlow, Apache SparkSQL, KubeFlow|\n",
        "| Data Visualization| Pixie Dust, Hue, Tableau|\n",
        "| Model Building| IBM Watson, Tensorflow, Apache SparkML|\n",
        "| Model Deployment| Cortex, KubeFlow |\n",
        "| Model Monitoring| IBM Watcon Openscale, Fiddler|\n"
      ],
      "metadata": {
        "id": "Xfvp6DALGQ2c"
      }
    },
    {
      "cell_type": "markdown",
      "source": [
        "## Arithmentic Expresion Example:"
      ],
      "metadata": {
        "id": "G71oF8MDGQ2c"
      }
    },
    {
      "cell_type": "code",
      "source": [
        "(3+5)*10"
      ],
      "metadata": {
        "trusted": true,
        "id": "mt4Qrw0QGQ2c"
      },
      "execution_count": null,
      "outputs": []
    },
    {
      "cell_type": "code",
      "source": [
        "minutes=75\n",
        "hours= minutes//60\n",
        "remaining_minutes= minutes%60\n",
        "print(\"Hours: \",hours, \"and \", remaining_minutes,\" minutes\")"
      ],
      "metadata": {
        "id": "TBK7W-rUGQ2d"
      },
      "execution_count": null,
      "outputs": []
    },
    {
      "cell_type": "markdown",
      "source": [
        "### The objective of this excerise is to:\n",
        "* Listing Data Science tools\n",
        "* Listing Data Science Libraies\n",
        "* Listing Data Science Languages\n",
        "* Get used to using Jupyter notebooks"
      ],
      "metadata": {
        "id": "E6efeg7IGQ2d"
      }
    },
    {
      "cell_type": "markdown",
      "source": [
        "This notebook was done by\n",
        "# Mayar Osama"
      ],
      "metadata": {
        "id": "q2gGkR90GQ2d"
      }
    },
    {
      "cell_type": "markdown",
      "source": [
        "You can find this notebook avaliable on my GitHub [DataScience Repo](https://github.com/MayarOssama/Tools_DataScience/blob/main/Data_Science_Tools_and_Ecosystem.ipynb)\n"
      ],
      "metadata": {
        "id": "EPqnnI_NGQ2d"
      }
    },
    {
      "cell_type": "code",
      "source": [],
      "metadata": {
        "id": "t6Uns9woGQ2d"
      },
      "execution_count": null,
      "outputs": []
    }
  ]
}