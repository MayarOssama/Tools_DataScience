{
  "metadata": {
    "language_info": {
      "name": ""
    },
    "kernelspec": {
      "name": "python",
      "display_name": "Python (Pyodide)",
      "language": "python"
    },
    "colab": {
      "provenance": []
    }
  },
  "nbformat_minor": 0,
  "nbformat": 4,
  "cells": [
    {
      "cell_type": "markdown",
      "source": [
        "# Week 6 Assignment"
      ],
      "metadata": {
        "id": "beMvXd4pXUSB"
      }
    },
    {
      "cell_type": "markdown",
      "source": [
        "## Introduction\n",
        "Data Science tools are an esential to start your career as a data scientest."
      ],
      "metadata": {
        "id": "qK3XNXKZXUSD"
      }
    },
    {
      "cell_type": "markdown",
      "source": [
        "## Languages of Data Science"
      ],
      "metadata": {
        "id": "hIO97ezRXUSD"
      }
    },
    {
      "cell_type": "markdown",
      "source": [
        "The most commonly used languages for data science are:\n",
        "- *Python*\n",
        "- *R*\n",
        "- *Scala*\n",
        "- *Java*\n",
        "- *C++*\n",
        "- *Julia*"
      ],
      "metadata": {
        "id": "U5Bm3DhGXUSD"
      }
    },
    {
      "cell_type": "markdown",
      "source": [
        "# Data Science Libraries\n",
        "Once you picked your language of choice, in my prefernce its Python, the next step is to get familiar with the libraies that would help us with the datascience tasks.\n",
        "\n",
        "The most commonly used libraries are:\n",
        "* Pandas\n",
        "* NumPy\n",
        "* SciPy\n",
        "* Matplotlib\n",
        "* TensorFlow\n",
        "* PyTorch\n",
        "* Keras\n",
        "* Scikit-learn\n",
        "* The Natural Language Toolkit (NLTK).\n"
      ],
      "metadata": {
        "id": "iDixHHEKXUSD"
      }
    },
    {
      "cell_type": "markdown",
      "source": [
        "## Data Science Tools\n",
        "Data science has 6 main task categories; *Data Managment, Data Integration and Transofrmation, Data Visualization, Model Building, and Model Monitoring and Assessment*.\n"
      ],
      "metadata": {
        "id": "vQAAb3voXUSE"
      }
    },
    {
      "cell_type": "markdown",
      "source": [
        "| Task | Tools |\n",
        "| --- | --- |\n",
        "| Data Managment | MySQL, PostSQL, MongoDB, Apache CouchDB |\n",
        "| Data Integration and Transformation | Apache AirFlow, Apache SparkSQL, KubeFlow|\n",
        "| Data Visualization| Pixie Dust, Hue, Tableau|\n",
        "| Model Building| IBM Watson, Tensorflow, Apache SparkML|\n",
        "| Model Deployment| Cortex, KubeFlow |\n",
        "| Model Monitoring| IBM Watcon Openscale, Fiddler|\n"
      ],
      "metadata": {
        "id": "-xTpWypBXUSE"
      }
    },
    {
      "cell_type": "markdown",
      "source": [
        "1+1=2"
      ],
      "metadata": {
        "id": "cAwIBpEvXUSE"
      }
    },
    {
      "cell_type": "code",
      "source": [
        "a=5\n",
        "b=3\n",
        "c=a+b\n",
        "d= a*c"
      ],
      "metadata": {
        "trusted": true,
        "id": "5qf9UTXjXUSE"
      },
      "execution_count": 1,
      "outputs": []
    },
    {
      "cell_type": "code",
      "source": [
        "print(c)"
      ],
      "metadata": {
        "trusted": true,
        "colab": {
          "base_uri": "https://localhost:8080/"
        },
        "id": "sNQqB9gVXUSF",
        "outputId": "2ec3f739-3f09-4a68-a5ec-1a0e0bab3294"
      },
      "execution_count": 2,
      "outputs": [
        {
          "output_type": "stream",
          "name": "stdout",
          "text": [
            "8\n"
          ]
        }
      ]
    },
    {
      "cell_type": "code",
      "source": [
        "print(d)"
      ],
      "metadata": {
        "trusted": true,
        "colab": {
          "base_uri": "https://localhost:8080/"
        },
        "id": "lSEX9e87XUSF",
        "outputId": "66b01fc5-ec4c-4dc9-e6f2-c6d716d71107"
      },
      "execution_count": 3,
      "outputs": [
        {
          "output_type": "stream",
          "name": "stdout",
          "text": [
            "40\n"
          ]
        }
      ]
    },
    {
      "cell_type": "code",
      "source": [
        "minutes=int(input(\"Please enter the minutes as int \"))\n",
        "hours= minutes//60\n",
        "remaining_minutes= minutes%60\n",
        "print(\"Hours: \",hours, \"and \", remaining_minutes,\" minutes\")"
      ],
      "metadata": {
        "colab": {
          "base_uri": "https://localhost:8080/"
        },
        "id": "M8Mof271XUSF",
        "outputId": "6571fec3-a925-4b57-bd89-178c471da900"
      },
      "execution_count": 4,
      "outputs": [
        {
          "output_type": "stream",
          "name": "stdout",
          "text": [
            "Please enter the minutes as int75\n",
            "Hours:  1 and  15  minutes\n"
          ]
        }
      ]
    },
    {
      "cell_type": "markdown",
      "source": [
        "The objective of this excerise is to:\n",
        "* get used to using Jupyter notebooks\n",
        "* test how familiar you are with the interface"
      ],
      "metadata": {
        "id": "wqlds2eHXUSF"
      }
    },
    {
      "cell_type": "markdown",
      "source": [
        "This notebook was done by\n",
        "# Mayar Osama"
      ],
      "metadata": {
        "id": "AEhJD5b2XUSG"
      }
    },
    {
      "cell_type": "markdown",
      "source": [
        "You can find this notebook avaliable on my GitHub [DataScience Repo](https://github.com/MayarOssama/Tools_DataScience/blob/main/Week6_assignment.ipynb)\n"
      ],
      "metadata": {
        "id": "mtDs1Rw4XUSG"
      }
    },
    {
      "cell_type": "code",
      "source": [],
      "metadata": {
        "id": "o3t8tXZWXUSG"
      },
      "execution_count": 4,
      "outputs": []
    }
  ]
}