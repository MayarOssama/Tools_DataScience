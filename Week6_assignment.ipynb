{
  "metadata": {
    "language_info": {
      "name": ""
    },
    "kernelspec": {
      "name": "python",
      "display_name": "Python (Pyodide)",
      "language": "python"
    }
  },
  "nbformat_minor": 4,
  "nbformat": 4,
  "cells": [
    {
      "cell_type": "markdown",
      "source": "# Week 6 Assignment",
      "metadata": {}
    },
    {
      "cell_type": "markdown",
      "source": "## Introduction\nData Science tools are an esential to start your career as a data scientest. ",
      "metadata": {}
    },
    {
      "cell_type": "markdown",
      "source": "## Languages of Data Science",
      "metadata": {}
    },
    {
      "cell_type": "markdown",
      "source": "The most commonly used languages for data science are:\n- *Python*\n- *R*\n- *Scala*\n- *Java*\n- *C++*\n- *Julia*",
      "metadata": {}
    },
    {
      "cell_type": "markdown",
      "source": "# Data Science Libraries\nOnce you picked your language of choice, in my prefernce its Python, the next step is to get familiar with the libraies that would help us with the datascience tasks.\n\nThe most commonly used libraries are:\n* Pandas\n* NumPy\n* SciPy\n* Matplotlib\n* TensorFlow\n* PyTorch\n* Keras\n* Scikit-learn\n* The Natural Language Toolkit (NLTK). \n",
      "metadata": {}
    },
    {
      "cell_type": "markdown",
      "source": "## Data Science Tools\nData science has 6 main task categories; *Data Managment, Data Integration and Transofrmation, Data Visualization, Model Building, and Model Monitoring and Assessment*.\n",
      "metadata": {}
    },
    {
      "cell_type": "markdown",
      "source": "| Task | Tools |\n| --- | --- |\n| Data Managment | MySQL, PostSQL, MongoDB, Apache CouchDB |\n| Data Integration and Transformation | Apache AirFlow, Apache SparkSQL, KubeFlow|\n| Data Visualization| Pixie Dust, Hue, Tableau|\n| Model Building| IBM Watson, Tensorflow, Apache SparkML|\n| Model Deployment| Cortex, KubeFlow |\n| Model Monitoring| IBM Watcon Openscale, Fiddler|\n",
      "metadata": {}
    },
    {
      "cell_type": "markdown",
      "source": "1+1=2",
      "metadata": {}
    },
    {
      "cell_type": "code",
      "source": "a=int(input())\nb=int(input())\nc=a+b\nd= a*c",
      "metadata": {
        "trusted": true
      },
      "execution_count": null,
      "outputs": []
    },
    {
      "cell_type": "code",
      "source": "print(c)",
      "metadata": {
        "trusted": true
      },
      "execution_count": null,
      "outputs": []
    },
    {
      "cell_type": "code",
      "source": "print(d)",
      "metadata": {
        "trusted": true
      },
      "execution_count": null,
      "outputs": []
    },
    {
      "cell_type": "code",
      "source": "minutes=int(input(\"Please enter the minutes as int\"))\nhours= minutes//60\nremaining_minutes= minutes%60\nprint(\"Hours: \",hours, \"and \", remaining_minutes,\" minutes\")",
      "metadata": {},
      "execution_count": null,
      "outputs": []
    },
    {
      "cell_type": "markdown",
      "source": "The objective of this excerise is to:\n* get used to using Jupyter notebooks\n* test how familiar you are with the interface",
      "metadata": {}
    },
    {
      "cell_type": "markdown",
      "source": "This notebook was done by\n# Mayar Osama",
      "metadata": {}
    },
    {
      "cell_type": "markdown",
      "source": "You can find this notebook avaliable on my GitHub [DataScience Repo](https://github.com/MayarOssama/Tools_DataScience/tree/main)\n",
      "metadata": {}
    },
    {
      "cell_type": "code",
      "source": "",
      "metadata": {},
      "execution_count": null,
      "outputs": []
    }
  ]
}